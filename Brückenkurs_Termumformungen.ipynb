{
 "cells": [
  {
   "cell_type": "markdown",
   "metadata": {},
   "source": [
    "# Termumformungen"
   ]
  },
  {
   "cell_type": "markdown",
   "metadata": {},
   "source": [
    "Oft ergeben sich bei verschiedenen Gelegenheiten in der Mathematik (z.B. Integrieren oder Differenzieren) komplexe Terme. Ein solcher Term könnte zum Beispiel\n",
    "$$\\frac{54a^2-36ab+6b^2}{6a-2b}$$\n",
    "sein. Wollen wir diesen Term in ein Programm implementieren könnte das so aussehen:"
   ]
  },
  {
   "cell_type": "code",
   "execution_count": null,
   "metadata": {},
   "outputs": [],
   "source": [
    "import math\n",
    "def calculate_term(a,b):\n",
    "    return (54*math.pow(a,2)-36*a*b+6*math.pow(b,2))/(6*a-2*b)\n",
    "calculate_term(3,4)"
   ]
  },
  {
   "cell_type": "markdown",
   "metadata": {},
   "source": [
    "Sieht irgendwie kompliziert aus - man kann sich also auch leicht einen Fehler beim Programmieren einhandeln. Mit den Methoden der Termumformung können wir die Implementierung deutlich vereinfachen und nachvollziehbarer machen. Dadurch sind Fehler auch weniger wahrscheinlich. Der vereinfachte Term wäre:\n",
    "$$3(3a-b)$$\n",
    "Die Implementierung ist dann:"
   ]
  },
  {
   "cell_type": "code",
   "execution_count": null,
   "metadata": {},
   "outputs": [],
   "source": [
    "def calculate_term_simplified(a,b):\n",
    "    return 3*(3*a-b)\n",
    "calculate_term_simplified(3,4)"
   ]
  }
 ],
 "metadata": {
  "kernelspec": {
   "display_name": "Python 3",
   "language": "python",
   "name": "python3"
  },
  "language_info": {
   "codemirror_mode": {
    "name": "ipython",
    "version": 3
   },
   "file_extension": ".py",
   "mimetype": "text/x-python",
   "name": "python",
   "nbconvert_exporter": "python",
   "pygments_lexer": "ipython3",
   "version": "3.6.6+"
  }
 },
 "nbformat": 4,
 "nbformat_minor": 2
}
