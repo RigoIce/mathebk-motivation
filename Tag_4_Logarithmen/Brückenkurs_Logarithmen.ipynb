{
 "cells": [
  {
   "cell_type": "markdown",
   "metadata": {},
   "source": [
    "# Logarithmen"
   ]
  },
  {
   "cell_type": "markdown",
   "metadata": {},
   "source": [
    "## Finanzmathematik"
   ]
  },
  {
   "cell_type": "markdown",
   "metadata": {},
   "source": [
    "### Annuitätenkredit\n",
    "Bei den Potenzen haben wir uns den Annuitätenkredit angeschaut und die Annuitäten und die Restschuld mit Hilfe von Potenzen berechnet. Dabei war von Anfang an klar: Der Kredit über € 100,000 wird mit 10% p.a. verzinst und läuft 15 Jahre. Viele Banken bieten Ihnen aber Kreditlaufzeiten von z.B. 5 bis 30 Jahren an. Wie sollen Sie sich also entscheiden? \n",
    "\n",
    "Nehmen wir an, Sie brauchen € 100,000 und das beste Angebot, dass Sie finden sind 10% p.a. Nun setzen Sie sich hin und stellen fest, dass Sie jedes Jahr € 14,679 entbehren können und Sie damit den Kredit zurückbezahlen wollen. Welche Laufzeit wäre also die richtige für Sie? \n",
    "\n",
    "Gehen wir wieder von unserer Formel aus, die das Gleichgewicht zwischen Leistung (Kreditgeber) und Gegenleistung (Kreditnehmer) beschreibt:\n",
    "$$K_0\\cdot q^n=A\\cdot\\frac{q^n-1}{q-1}$$\n",
    "Aus dem beschriebenen Sachverhalt kennen wir $K_0$ (€ 100,000), $q$ (1,1) und $A$ (€ 14,679) und suchen die passende Laufzeit $n$. Wir müssen also nach $n$ auflösen. Beginnen wir mit\n",
    "$$K_0\\cdot(q-1)\\cdot q^n=A\\cdot q^n - A$$\n",
    "mit etwas Jonglieren der Vorzeichen erhalten wir\n",
    "$$A = A\\cdot q^n - K_0\\cdot(q-1)\\cdot q^n$$\n",
    "und können dann $q^n$ ausklammern\n",
    "$$A = q^n \\cdot (A - K_0\\cdot(q-1))$$\n",
    "und damit schließlich\n",
    "$$q^n=\\frac{A}{A - K_0\\cdot(q-1)}$$\n",
    "Soweit so gut, aber wie kommen wir an das $n$, das die Laufzeit beschreibt, heran? Da kommt der Logarithmus ins Spiel! Denn für $n$ erhalten wir:\n",
    "$$n = \\frac{\\ln{\\frac{A}{A - K_0\\cdot(q-1)}}}{\\ln{q}}$$\n",
    "Schauen wir uns die Laufzeit einmal an:"
   ]
  },
  {
   "cell_type": "code",
   "execution_count": 4,
   "metadata": {},
   "outputs": [
    {
     "name": "stdout",
     "output_type": "stream",
     "text": [
      "Die gesuchte Laufzeit beträgt 12.0 Jahre.\n"
     ]
    }
   ],
   "source": [
    "import numpy as np\n",
    "A = 14679\n",
    "K0 = 100000\n",
    "i = 0.1\n",
    "q = 1 + i\n",
    "n = (np.log((A)/(A-K0*(i))))/(np.log(q))\n",
    "print(f'Die gesuchte Laufzeit beträgt {np.round(n,2)} Jahre.')"
   ]
  },
  {
   "cell_type": "markdown",
   "metadata": {},
   "source": [
    "## Chemie"
   ]
  },
  {
   "cell_type": "markdown",
   "metadata": {},
   "source": [
    "### pH-Wert\n",
    "Der pH-Wert gibt an, ob eine Lösung sauer oder basisch ist. Dabei beschreibt der pH-Wert die Wasserstoffionen-Aktivität in der Lösung und diese ist in der Regel sehr klein. Der Logarithmus hilft hier eine etwas anschaulichere Zahl zwischen 0 und 14 anzugeben. Die Definition des pH-Wertes lautet:\n",
    "$$pH = - \\log_{10}{a(H^+)}$$\n",
    "dabei ist $a(H^+)$ die relative Wasserstoffionenaktivität. Dies können wir durch Umstellen der Gleichung ermitteln:\n",
    "$$-pH=\\log_{10}{a(H^+)}$$\n",
    "dann schreiben wir die Gleichung in den Exponenten\n",
    "$$10^{-pH}=10^{\\log_{10}{a(H^+)}}$$\n",
    "und erhalten mit den Rechenregeln für den Logarithmus\n",
    "$$10^{-pH}=a(H^+)$$"
   ]
  },
  {
   "cell_type": "code",
   "execution_count": 7,
   "metadata": {},
   "outputs": [
    {
     "name": "stdout",
     "output_type": "stream",
     "text": [
      "Für einen pH-Wert von 8.5 beträgt die Wasserstoffionenaktivität 3.1622776601683795e-09.\n",
      "Für eine Wasserstoffionenaktivität von 4.32e-11 beträgt der pH-Wert 10.4.\n"
     ]
    }
   ],
   "source": [
    "pH = 8.5\n",
    "print(f'Für einen pH-Wert von {pH} beträgt die Wasserstoffionenaktivität {np.power(10,-pH)}.')\n",
    "aH = 4.32e-11\n",
    "print(f'Für eine Wasserstoffionenaktivität von {aH} beträgt der pH-Wert {np.round(-np.log10(aH),1)}.')"
   ]
  },
  {
   "cell_type": "markdown",
   "metadata": {},
   "source": [
    "## Wirtschaftswissenschaften"
   ]
  },
  {
   "cell_type": "markdown",
   "metadata": {},
   "source": [
    "### Benford'sches Gesetz\n",
    "Benfords Gesetz wird besonders häufig in forensischen Untersuchungen zur Wirtschaftskriminalität angewendet. Der große Bilanzskandal um Enron im Jahr 2001 wurde maßgeblich durch Anwendung dieses mathematischen Gesetzes aufgedeckt. Das Gesetz beschreibt eine Gesetzmäßigkeit zur Verteilung von führenden Ziffern in Zahlen. Laut Wikipedia kann das Gesetz in folgende Prosa gefasst werden: \n",
    "\n",
    "__Je niedriger der zahlenmäßige Wert einer Ziffernsequenz bestimmter Länge an einer bestimmten Stelle einer Zahl ist, desto wahrscheinlicher ist ihr Auftreten. Für die Anfangsziffern in Zahlen des Zehnersystems gilt zum Beispiel: Zahlen mit der Anfangsziffer 1 treten etwa 6,6-mal so häufig auf wie Zahlen mit der Anfangsziffer 9.__\n",
    "\n",
    "Mathematisch ausgedrückt:\n",
    "$$p(d)=\\log_{10}(d+1) - \\log_{10}(d)$$\n",
    "\n",
    "Diese Formel beschreibt die Wahrscheinlichkeit dafür, dass eine Ziffer $d$ für eine beliebige Zahl als erste Ziffer vorkommt. Für die Ziffern 1 - 9 erhalten wir also folgende Wahrscheinlichkeitverteilung:"
   ]
  },
  {
   "cell_type": "code",
   "execution_count": 10,
   "metadata": {},
   "outputs": [
    {
     "data": {
      "text/html": [
       "<div>\n",
       "<style scoped>\n",
       "    .dataframe tbody tr th:only-of-type {\n",
       "        vertical-align: middle;\n",
       "    }\n",
       "\n",
       "    .dataframe tbody tr th {\n",
       "        vertical-align: top;\n",
       "    }\n",
       "\n",
       "    .dataframe thead th {\n",
       "        text-align: right;\n",
       "    }\n",
       "</style>\n",
       "<table border=\"1\" class=\"dataframe\">\n",
       "  <thead>\n",
       "    <tr style=\"text-align: right;\">\n",
       "      <th></th>\n",
       "      <th>Erste Ziffer einer Zahl</th>\n",
       "      <th>Wahrscheinlichkeit</th>\n",
       "    </tr>\n",
       "  </thead>\n",
       "  <tbody>\n",
       "    <tr>\n",
       "      <th>0</th>\n",
       "      <td>1</td>\n",
       "      <td>0.301030</td>\n",
       "    </tr>\n",
       "    <tr>\n",
       "      <th>1</th>\n",
       "      <td>2</td>\n",
       "      <td>0.176091</td>\n",
       "    </tr>\n",
       "    <tr>\n",
       "      <th>2</th>\n",
       "      <td>3</td>\n",
       "      <td>0.124939</td>\n",
       "    </tr>\n",
       "    <tr>\n",
       "      <th>3</th>\n",
       "      <td>4</td>\n",
       "      <td>0.096910</td>\n",
       "    </tr>\n",
       "    <tr>\n",
       "      <th>4</th>\n",
       "      <td>5</td>\n",
       "      <td>0.079181</td>\n",
       "    </tr>\n",
       "    <tr>\n",
       "      <th>5</th>\n",
       "      <td>6</td>\n",
       "      <td>0.066947</td>\n",
       "    </tr>\n",
       "    <tr>\n",
       "      <th>6</th>\n",
       "      <td>7</td>\n",
       "      <td>0.057992</td>\n",
       "    </tr>\n",
       "    <tr>\n",
       "      <th>7</th>\n",
       "      <td>8</td>\n",
       "      <td>0.051153</td>\n",
       "    </tr>\n",
       "    <tr>\n",
       "      <th>8</th>\n",
       "      <td>9</td>\n",
       "      <td>0.045757</td>\n",
       "    </tr>\n",
       "  </tbody>\n",
       "</table>\n",
       "</div>"
      ],
      "text/plain": [
       "   Erste Ziffer einer Zahl  Wahrscheinlichkeit\n",
       "0                        1            0.301030\n",
       "1                        2            0.176091\n",
       "2                        3            0.124939\n",
       "3                        4            0.096910\n",
       "4                        5            0.079181\n",
       "5                        6            0.066947\n",
       "6                        7            0.057992\n",
       "7                        8            0.051153\n",
       "8                        9            0.045757"
      ]
     },
     "execution_count": 10,
     "metadata": {},
     "output_type": "execute_result"
    }
   ],
   "source": [
    "import pandas as pd\n",
    "numbers = [1,2,3,4,5,6,7,8,9]\n",
    "df = pd.DataFrame({'Erste Ziffer einer Zahl': numbers})\n",
    "df = df.assign(Wahrscheinlichkeit = lambda x: np.log10(x['Erste Ziffer einer Zahl']+1)-np.log10(x['Erste Ziffer einer Zahl']))\n",
    "df"
   ]
  },
  {
   "cell_type": "markdown",
   "metadata": {},
   "source": [
    "Wie Sie erkennen können tritt die 1 mit einer Wahrscheinlichkeit von ca. 30.1% häufiger als erste Ziffer einer Zahl auf also die 9 mit nur ca. 4.6%. Da Menschen beim Erstellen von \"zufälligen\" Zahlen dazu neigen nachzudenken und größere Zahlen wählen da sie zufälliger wirken (z.B. 301 statt 103), können mit Benfords Gesetz \"Fälschungen\" erkannt werden. "
   ]
  },
  {
   "cell_type": "markdown",
   "metadata": {},
   "source": [
    "## Informatik"
   ]
  },
  {
   "cell_type": "markdown",
   "metadata": {},
   "source": [
    "### Entropie / Informationsgehalt\n",
    "Die Entropie ist ein Maß für den mittleren Informationsgehalt von Inhalten, wie zum Beispiel Nachrichten. Dieses Themenfeld ist recht komplex und kann ganze Vorlesungen alleine füllen. Und deshalb vereinfachen wir die Entropie stark auf die folgende Aussage: \n",
    "\n",
    "__Die Entropie $H$ beschreibt wie viele Bits zur Speicherung einer Information benötigt werden.__\n",
    "\n",
    "Wie gesagt ist diese Aussage stark vereinfacht, hilft aber die folgenden Beispiele zu verstehen. Sie finden die Beispiele auch bei [Wikipedia](https://de.wikipedia.org/w/index.php?title=Entropie_(Informationstheorie)&oldid=215588364). Nehmen wir an Sie wollen einen regulären, sechseitigen, fairen Würfel werfen, dann ist die Wahrscheinlichkeit eine bestimmte Zahl, nehmen wir die 3, zu werfen genau $\\frac{1}{6}$. Oder verallgemeinert:\n",
    "$$p_i=\\frac{1}{n}$$\n",
    "wenn $n$ die Anzahl der möglichen Ergebnisse ist. Dann funktioniert es zum Beispiel auch für Würfel mit mehr oder weniger als 6 Seiten. Die Entropie wäre dann:\n",
    "$$H=\\log_2\\left(\\frac{1}{p_1}\\right)=\\log_2(n)$$\n",
    "Für unseren 6-seitigen Würfel bräuchten wir also \n",
    "$$H=\\log_2(6)=\\log_2(2\\cdot 3)=\\log_2(2)+\\log_2(3)=1+\\log_2(3)\\approx 1 + 1.585 = 2.585$$\n",
    "Bits um die Informationen abbilden zu können. Da wir keine Bruchteile von Bits verwenden können, nehmen wir also 3 Bits. Was übrigens reichen würde die Information eines 8-seitigen Würfel abbilden zu können, da gilt\n",
    "$$log_2(8)=3$$"
   ]
  },
  {
   "cell_type": "markdown",
   "metadata": {},
   "source": [
    "## Botanik"
   ]
  },
  {
   "cell_type": "markdown",
   "metadata": {},
   "source": [
    "## Der goldene Winkel\n",
    "Der goldene Winkel war schon bei den Potenzen ein Thema. Schauen wir uns das Bild der Sonnenblume noch einmal an.\n",
    "![Der goldene Winkel - Blütenstände](https://www.srf.ch/static/cms/images/640w/5b6756.jpg)\n",
    "Wie bereits erwähnt ordnen sich die Blütenstände auf einer Spirale so an, dass sie den Abstand des goldenen Winkels haben. Dabei ist die Spirale eine sogenannte \"logarithmische Spirale\" mit der Funktion:\n",
    "$$r(\\phi)=a\\cdot e^{k\\cdot \\phi}$$\n",
    "bzw. \n",
    "$$\\phi(r)=\\frac{1}{k}\\cdot\\ln(\\frac{r}{a})$$\n",
    "Wir gehen auf die Funktion für die Spirale an dieser Stelle nicht näher ein, sondern erwähnen noch, dass die logarithmische Spirale nicht nur bei Sonnenblumen, sondern auch bei Schneckenhäusern, Galaxien, Blumenkohl, Tiefdruckwirbeln und so weiter zu beobachten ist. Ein ganz besonderer Sachverhalt ist das \n",
    "[Flugverhalten von Insekten](https://de.wikipedia.org/w/index.php?title=Logarithmische_Spirale&oldid=215215429#Vorkommen) bei Nacht. Diese orientieren sich am Mond und halten den Winkel konstant zu ihm. Nun ist es schwierig für ein Insekt nachts zwischen Mond und Lampe zu unterscheiden, so dass Insekten ihre Flugbahn auf Grund der Lichtquelle korrigieren, so dass deren Flugbahn eine logarithmische Spirale wird in deren Zentrum sich die Lichtquelle befindet. \n",
    "\n",
    "Bildquelle: Schweizer Radio und Fernsehen, Big Data: Das grosse Vermessen - Die Mathematik der Pflanzen, https://www.srf.ch/sendungen/einstein/big-data-das-grosse-vermessen/die-mathematik-der-pflanzen"
   ]
  },
  {
   "cell_type": "markdown",
   "metadata": {},
   "source": [
    "## Mathematik - Exkurs"
   ]
  },
  {
   "cell_type": "markdown",
   "metadata": {},
   "source": [
    "### Fibonacci-Folge\n",
    "Der goldene Schnitt und der goldene Winkel stehen in unmittelbarem Zusammenhang mit der Fibonacci-Folge. Die Folge selbst ist leicht definiert. Man setze die ersten zwei Zahlen gleich 1 und kann jede folgende Zahl der unendlichen Folge berechnen in dem man die beiden vorhergehenden Folgenglieder addiert, also \n",
    "$$(a_n)=1,1,2,3,5,8,...=a_{n-2}+a_{n-1}$$\n",
    "Lassen wir uns die ersten 30 Fibonacci-Zahlen einmal berechnen:"
   ]
  },
  {
   "cell_type": "code",
   "execution_count": 2,
   "metadata": {},
   "outputs": [
    {
     "name": "stdout",
     "output_type": "stream",
     "text": [
      "Die ersten 30 Fibonacci-Zahlen der Fibonacci-Folge sind [1, 1, 2, 3, 5, 8, 13, 21, 34, 55, 89, 144, 233, 377, 610, 987, 1597, 2584, 4181, 6765, 10946, 17711, 28657, 46368, 75025, 121393, 196418, 317811, 514229, 832040, 1346269, 2178309].\n"
     ]
    }
   ],
   "source": [
    "fibo = [1,1]\n",
    "n = 30 \n",
    "for i in range(n):\n",
    "    fibo.append(fibo[i]+fibo[i+1])\n",
    "print(f'Die ersten {n} Fibonacci-Zahlen der Fibonacci-Folge sind {fibo}.')"
   ]
  },
  {
   "cell_type": "markdown",
   "metadata": {},
   "source": [
    "Wir erinnern uns, dass wir den goldenen Schnitt hergeleitet haben aus der Problemstellung:\n",
    "$$\\frac{a}{b}=\\frac{a-b}{a}$$\n",
    "Nun kann man sich überlegen, ob die Fibonacci-Zahlen Lösungen für a und b sein könnten. Schauen wir uns dazu einmal ein Beispiel an:"
   ]
  },
  {
   "cell_type": "code",
   "execution_count": 8,
   "metadata": {},
   "outputs": [
    {
     "name": "stdout",
     "output_type": "stream",
     "text": [
      "Der goldene Schnitt ist: 1.618033988749895.\n",
      "Der Quotient aus der 30. und 29. Fibonacci-Zahl ist: 1.6180339887496482.\n",
      "Die rechte Seite der Gleichug aus 30. und 29. Fibonacci-Zahl ist: 1.618033988749989.\n"
     ]
    }
   ],
   "source": [
    "# Goldener Schnitt\n",
    "print(f'Der goldene Schnitt ist: {(1+np.sqrt(5))/(2)}.')\n",
    "# Fibonacci-Links\n",
    "print(f'Der Quotient aus der 30. und 29. Fibonacci-Zahl ist: {2178309/1346269}.')\n",
    "# Fibonacci-Rechts\n",
    "print(f'Die rechte Seite der Gleichug aus 30. und 29. Fibonacci-Zahl ist: {(2178309+1346269)/(2178309)}.')"
   ]
  },
  {
   "cell_type": "markdown",
   "metadata": {},
   "source": [
    "Tatsächlich konvergiert die Folge der Fibonacci-Quotienten gegen den goldenen Schnitt:\n",
    "$$\\lim\\limits_{n \\to \\infty}\\frac{f_{n}}{f_{n-1}}=\\Phi$$\n",
    "wobei $f_n$ die n-te Fibonacci-Zahl meint. "
   ]
  }
 ],
 "metadata": {
  "kernelspec": {
   "display_name": "Python 3",
   "language": "python",
   "name": "python3"
  },
  "language_info": {
   "codemirror_mode": {
    "name": "ipython",
    "version": 3
   },
   "file_extension": ".py",
   "mimetype": "text/x-python",
   "name": "python",
   "nbconvert_exporter": "python",
   "pygments_lexer": "ipython3",
   "version": "3.6.6+"
  }
 },
 "nbformat": 4,
 "nbformat_minor": 2
}
