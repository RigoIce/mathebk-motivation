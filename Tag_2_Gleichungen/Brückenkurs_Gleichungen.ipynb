{
 "cells": [
  {
   "cell_type": "markdown",
   "metadata": {},
   "source": [
    "# Gleichungen"
   ]
  },
  {
   "cell_type": "markdown",
   "metadata": {},
   "source": [
    "## Werkstoffkunde"
   ]
  },
  {
   "cell_type": "markdown",
   "metadata": {},
   "source": [
    "### Zugfestigkeit\n",
    "Unter der Zugfestigkeit versteht man einen Kennwert in der Werkstoffkunde. Dieser Kennwert beschreibt die maximale mechanische Zugspannung, die ein gegebener Werkstoff aushält. Seien $F_z$ die maximal erreichte Zugkraft und $A_0$ der Querschnitt der Werkstoffprobe, dann ist die Zugfestigkeit $R_m$:\n",
    "$$R_m = \\frac{F_z}{A_0}$$\n",
    "Nehmen wir an, dass Sie folgende Information erhalten:\n",
    "\n",
    "Ein Polystyrol-Bauteil mit Querschnitt $A_0 = 30 mm^2$ ist durch mechanische Zugspannung bei einem Unfall zerstört worden. Um den Unfallhergang zu ermitteln, ist zu bestimmen wie groß die Zugkrafteinwirkung war. Sie schlagen in Bargel: Werkstoffkunde, 11. Auflage nach, dass die Zugfestigkeit von Polystyrol 45 bis 64 $\\frac{N}{mm^2}$ beträgt. \n",
    "\n",
    "Um die Kraft zu ermitteln, müssen sie die Gleichung umstellen:\n",
    "$$F_z = R_m \\cdot A_0$$\n",
    "Sie separieren also die bekannten Parameter von der Unbekannten. "
   ]
  },
  {
   "cell_type": "code",
   "execution_count": null,
   "metadata": {},
   "outputs": [],
   "source": [
    "def calculate_force(r,a):\n",
    "    return r*a\n",
    "print('Die Zugkraft betrug zwischen')\n",
    "print(str(calculate_force(45,30)) + ' N und')\n",
    "print(str(calculate_force(64,30)) + ' N.')"
   ]
  },
  {
   "cell_type": "markdown",
   "metadata": {},
   "source": [
    "## Führerscheinprüfung / autonomes Fahren"
   ]
  },
  {
   "cell_type": "markdown",
   "metadata": {},
   "source": [
    "### Anhalteweg\n",
    "Beliebte Matheaufgaben in der Führerscheinprüfung sind der Bremsweg, der Reaktionsweg und der Anhalteweg (Reaktionsweg + Bremsweg). Die Faustformel für den Bremsweg in Metern ist:\n",
    "$$\\frac{Geschwindigkeit}{10} \\cdot \\frac{Geschwindigkeit}{10}$$\n",
    "oder mehr mathematisch:\n",
    "$$s_B = \\frac{v_0^2}{100}$$\n",
    "Der Reaktionsweg in Metern hat folgende Faustformel:\n",
    "$$s_R = \\frac{3 \\cdot v_0}{10}$$\n",
    "Damit ergibt sich für den Anhalteweg:\n",
    "$$s_A = s_R + s_B = \\frac{3 \\cdot v_0}{10} + \\frac{v_0^2}{100}$$\n",
    "Jetzt die \"typische\" Führerscheinfrage: Sie halten zu Ihrem Vordermann 81 Meter Abstand. Wie schnell dürfen Sie maximal fahren, damit Sie durch normales Bremsen eine Kollision vermeiden? \n",
    "\n",
    "Nun nehmen wir auf was wir wissen:\n",
    "$$81 = \\frac{3 \\cdot v_0}{10} + \\frac{v_0^2}{100}$$\n",
    "Erinnern wir uns an die Termumformungen! Das geht auch einfacher:\n",
    "$$81 = \\frac{30 \\cdot v_0 + v_0^2}{100}$$\n",
    "Da wir $v_0$ suchen kommen wir um eine quadratische Gleichung nicht herum:\n",
    "$$v_0^2 + 30 \\cdot v_0 - 8100 = 0$$\n",
    "Wir nutzen dafür die p-q-Formel $x_{1,2} = -\\frac{p}{2}\\pm\\sqrt{\\frac{p^2}{4}-q}$, also:\n",
    "$$$v_{0_{1,2}} = -15\\pm\\sqrt{8325} \\approx 76.24$$\n",
    "Sie sollten also nicht schneller als 76 km/h fahren. \n",
    "\n",
    "**Solche Berechnungen sind nicht nur für den Führerschein wichtig, sondern werden durchgängig beim autonomen Fahren bzw. bei Fahrassistenten ausgewertet. Und da sind diese Berechnungen noch die simpelsten!**"
   ]
  },
  {
   "cell_type": "markdown",
   "metadata": {},
   "source": [
    "## Logistik"
   ]
  },
  {
   "cell_type": "markdown",
   "metadata": {},
   "source": [
    "### Operations Research / Produktionsplanung\n",
    "###### Beispiel von [Wikipedia](https://de.wikipedia.org/w/index.php?title=Lineare_Optimierung&oldid=210326785)\n",
    "Ein Unternehmen stellt zwei verschiedene Produkte her, für deren Fertigung drei Maschinen A, B, C zur Verfügung stehen. Diese Maschinen haben eine maximale monatliche Laufzeit (Kapazität) von 170 Stunden (A), 150 Stunden (B) bzw. 180 Stunden (C). Eine Mengeneinheit (ME) von Produkt 1 liefert einen Deckungsbeitrag von 300 Euro, eine ME von Produkt 2 dagegen 500 Euro. Fertigt man eine ME von Produkt 1, dann benötigt man dafür eine Stunde die Maschine A und eine Stunde die Maschine B. Eine Einheit von Produkt 2 belegt zwei Stunden lang Maschine A, eine Stunde Maschine B und drei Stunden Maschine C. Ziel ist es, Produktionsmengen zu bestimmen, die **den Deckungsbeitrag des Unternehmens maximieren, ohne die Maschinenkapazitäten zu überschreiten**. Fixkosten können in dem Optimierungsproblem ignoriert und anschließend addiert werden, da sie per Definition unabhängig von den zu bestimmenden Produktionsmengen sind.\n",
    "\n",
    "Wir benötigen hier also eine geschickte mathematische Modellierung, denn den Deckungsbeitrag zu maximieren ist an sich ziemlich einfach: So viele ME von Produkt 2 produzieren wie möglich. Aber...\n",
    "\n",
    "Die Maschinen haben eine gewisse Limitation in der Herstellung dieser Produkte. In der Realität werden noch anderen Limitationen hinzukommen, wie Rohstoffe, Lieferketten etc. All das bestimmt in Form von Randbedingungen das maximale Ergebnis des Deckungsbeitrags. Eine weitere Komplexitätsebene erhält der Sachverhalt wenn Sie auch noch die Nachfrage berücksichtigen müssen, denn die Herstellung allein macht Sie nicht reich, Sie müssen auch verkaufen.\n",
    "\n",
    "Konzentrieren wir uns aber auf das obige Beispiel, da dies schon komplex genug ist. Wir können die mathematische Formulierung wie folgt wählen:\n",
    "\n",
    "Gesamtdeckungsbeitrag\n",
    "$$G(x_1, x_2) = 300 \\cdot x_1 + 500 \\cdot x_2$$\n",
    "Nebenbedingungen\n",
    "$$x_1+2x_2 ≤ 170$$\n",
    "$$x_1+x_2 ≤ 150$$\n",
    "$$3x_2 ≤ 180$$\n",
    "$$x_1,x_2 ≥ 0$$\n",
    "Die letzte Nebenbedingung ist die \"Nichtnegativitätsbedingung\" - Sie können eben keine negativen Produktionsmengen haben. Die Lösungsverfahren eines solchen Problems sind mitunter ziemlich aufwendig. Aufgabe 23a des Übungsblatts ist ähnlich gelagert, aber deutlich bequemer in der Berechnung. Aufgabe 23c ist ein weiteres Beispiel des Aufgabentyps und eine prima Aufgabe für lange Winterabende. \n",
    "\n",
    "In unserem Beispiel hier gucken wir uns den Sachverhalt grafisch an:"
   ]
  },
  {
   "cell_type": "code",
   "execution_count": null,
   "metadata": {},
   "outputs": [],
   "source": [
    "from matplotlib import pyplot as plt\n",
    "import numpy as np\n",
    "\n",
    "x = np.linspace(0,180,10)\n",
    "y1 = (170-x)/2\n",
    "y2 = 150-x\n",
    "y3 = 60+x-x\n",
    "g1 = 60-3/5*x\n",
    "gm = 98-3/5*x\n",
    "\n",
    "plt.figure(figsize=(9,6))\n",
    "plt.plot(x,y1,'r-',label='Maschine A')\n",
    "plt.plot(x,y2,'y-',label='Maschine B')\n",
    "plt.plot(x,y3,'b-',label='Maschine C')\n",
    "plt.plot(x,g1,'g--',label='Gesamtdeckungsbeitrag 30000')\n",
    "plt.plot(x,gm,'g--',label='Maximaler Gesamtdeckungsbeitrag 49000')\n",
    "plt.xlabel('Produkt 1')\n",
    "plt.ylabel('Produkt 2')\n",
    "plt.xlim(0,180)\n",
    "plt.ylim(0,170)\n",
    "plt.legend()\n",
    "plt.show()"
   ]
  }
 ],
 "metadata": {
  "kernelspec": {
   "display_name": "Python 3",
   "language": "python",
   "name": "python3"
  },
  "language_info": {
   "codemirror_mode": {
    "name": "ipython",
    "version": 3
   },
   "file_extension": ".py",
   "mimetype": "text/x-python",
   "name": "python",
   "nbconvert_exporter": "python",
   "pygments_lexer": "ipython3",
   "version": "3.6.6+"
  }
 },
 "nbformat": 4,
 "nbformat_minor": 2
}
