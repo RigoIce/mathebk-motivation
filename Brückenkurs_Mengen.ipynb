{
 "cells": [
  {
   "cell_type": "markdown",
   "metadata": {},
   "source": [
    "# Mengenlehre und Datenbanken"
   ]
  },
  {
   "cell_type": "markdown",
   "metadata": {},
   "source": [
    "### Imports und Datenbankverbindung"
   ]
  },
  {
   "cell_type": "code",
   "execution_count": null,
   "metadata": {},
   "outputs": [],
   "source": [
    "import sqlite3\n",
    "con = sqlite3.connect('university_orga.db')\n",
    "cur = con.cursor()"
   ]
  },
  {
   "cell_type": "markdown",
   "metadata": {},
   "source": [
    "### Clean-Up \n",
    "Wir stellen sicher, dass wir keine \"alte\" Version für dieses Beispiel haben, sondern ein sauberes Setup."
   ]
  },
  {
   "cell_type": "code",
   "execution_count": null,
   "metadata": {},
   "outputs": [],
   "source": [
    "cur.execute('''DROP TABLE students''')\n",
    "cur.execute('''DROP TABLE lectures''');"
   ]
  },
  {
   "cell_type": "markdown",
   "metadata": {},
   "source": [
    "### Setup\n",
    "Wir erstellen drei frische Tabellen:\n",
    "- Students\n",
    "- Lectures\n",
    "Die erste Tabelle enthält alle Studenten, die zweite Tablle alle verfügbaren Vorlesungen. Zur Vereinfachung nehmen wir an, dass jeder Student nur eine einzige Vorlesung besucht. Dazu setzen wir die Datensätze auf und schreiben Sie dann in die Datenbank. "
   ]
  },
  {
   "cell_type": "code",
   "execution_count": null,
   "metadata": {},
   "outputs": [],
   "source": [
    "cur.execute('''CREATE TABLE students\n",
    "               (id integer primary key, name text, studiengang text, semester integer, kursid integer, vorkurs integer)''')\n",
    "cur.execute('''CREATE TABLE lectures\n",
    "                (id integer primary key, kursname text)''')\n",
    "students = [\n",
    "    (None, 'Studentin A', 'Wirtschaftsingenieurwesen', 1, 2, 1),\n",
    "    (None, 'Student B', 'Logistik', 1, 1, 0),\n",
    "    (None, 'Studentin C', 'Wirtschaftsmathematik', 3, 3, 0),\n",
    "    (None, 'Student D', 'Wirtschaftsinformatik', 1, 2, 0),\n",
    "    (None, 'Studentin E', 'Logistik', 3, 2, 1),\n",
    "    (None, 'Student F', 'Maschinenbau', 1, 2, 1),\n",
    "    (None, 'Studentin G', 'Elektrotechnik', 1, 5, 1)\n",
    "]\n",
    "lectures = [\n",
    "    (None, 'Logistik I'),\n",
    "    (None, 'Mathematik I'),\n",
    "    (None, 'Analysis I'),\n",
    "    (None, 'Datenbanksysteme')\n",
    "]\n",
    "cur.executemany('''INSERT INTO students VALUES \n",
    "                    (?, ?, ?, ?, ?, ?)''', students)\n",
    "cur.executemany('''INSERT INTO lectures VALUES\n",
    "                    (?, ?)''', lectures)\n",
    "con.commit()"
   ]
  },
  {
   "cell_type": "markdown",
   "metadata": {},
   "source": [
    "Wir prüfen, ob die Daten in der Datenbank wie gewünscht verfügabr sind. "
   ]
  },
  {
   "cell_type": "code",
   "execution_count": null,
   "metadata": {},
   "outputs": [],
   "source": [
    "print('Studenten:')\n",
    "for row in cur.execute('SELECT * FROM students'):\n",
    "    print(row)\n",
    "print('========================================================')\n",
    "print('Vorlesungen:')\n",
    "for row in cur.execute('SELECT * FROM lectures'):\n",
    "    print(row)\n",
    "    "
   ]
  },
  {
   "cell_type": "markdown",
   "metadata": {},
   "source": [
    "### SQL JOINS\n",
    "![SQL JOINS](https://i.stack.imgur.com/UI25E.jpg)\n",
    "ACHTUNG! SQL Joins sind anhand der Tabellen nicht 1 zu 1 mit der Mengenlehre vergleichbar, da Joins sich auf das kartesische Produkt beziehen. Dennoch veranschaulichen diese vereinfachten Beispiele die Denkweise bei Datenbankabfragen und wie die Mengenlehre dabei hilft. "
   ]
  },
  {
   "cell_type": "markdown",
   "metadata": {},
   "source": [
    "#### Inner Join (Schnittmenge)"
   ]
  },
  {
   "cell_type": "code",
   "execution_count": null,
   "metadata": {},
   "outputs": [],
   "source": [
    "for row in cur.execute('''SELECT name, studiengang, kursname \n",
    "                FROM students\n",
    "                INNER JOIN lectures\n",
    "                ON students.kursid=lectures.id'''):\n",
    "    print(row)"
   ]
  },
  {
   "cell_type": "markdown",
   "metadata": {},
   "source": [
    "#### Left Join exclusive (Differenzmenge)"
   ]
  },
  {
   "cell_type": "code",
   "execution_count": null,
   "metadata": {},
   "outputs": [],
   "source": [
    "for row in cur.execute('''SELECT name, studiengang, kursname \n",
    "                FROM students\n",
    "                LEFT JOIN lectures\n",
    "                ON students.kursid=lectures.id\n",
    "                WHERE lectures.id is NULL'''):\n",
    "    print(row)"
   ]
  },
  {
   "cell_type": "code",
   "execution_count": null,
   "metadata": {},
   "outputs": [],
   "source": [
    "for row in cur.execute('''SELECT name, studiengang, kursname \n",
    "                FROM students\n",
    "                LEFT JOIN lectures\n",
    "                ON students.kursid=lectures.id'''):\n",
    "    print(row)"
   ]
  }
 ],
 "metadata": {
  "kernelspec": {
   "display_name": "Python 3",
   "language": "python",
   "name": "python3"
  },
  "language_info": {
   "codemirror_mode": {
    "name": "ipython",
    "version": 3
   },
   "file_extension": ".py",
   "mimetype": "text/x-python",
   "name": "python",
   "nbconvert_exporter": "python",
   "pygments_lexer": "ipython3",
   "version": "3.6.6+"
  }
 },
 "nbformat": 4,
 "nbformat_minor": 2
}
