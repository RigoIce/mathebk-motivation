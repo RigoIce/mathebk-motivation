{
 "cells": [
  {
   "cell_type": "code",
   "execution_count": null,
   "metadata": {},
   "outputs": [],
   "source": [
    "import math"
   ]
  },
  {
   "cell_type": "markdown",
   "metadata": {},
   "source": [
    "# Potenzen und Wurzeln"
   ]
  },
  {
   "cell_type": "markdown",
   "metadata": {},
   "source": [
    "## Informatik"
   ]
  },
  {
   "cell_type": "markdown",
   "metadata": {},
   "source": [
    "### Effizienz von Algorithmen\n",
    "Potenzen sind im Grunde eine Abkürzung für die Multiplikation, so wie die Multiplikation eine Abkürzung für die Addition ist. Dies kann man sich leicht klar machen, denn es ist zum Beispiel:\n",
    "$$a+a+a+a+a+a+a+a+a+a+a+a = 12a$$\n",
    "Niemand würde bezweifeln, dass die rechte Seite deutlich komfortabler zu schreiben und auch zu berechnen ist. Gleiches gilt also auch für die Multiplikation:\n",
    "$$a \\cdot a \\cdot a \\cdot a \\cdot a \\cdot a \\cdot a \\cdot a \\cdot a \\cdot a \\cdot a \\cdot a = a^{12}$$\n",
    "Nehmen wir den Fall an, dass Sie beauftragt wurden die n-fache Multiplikation in einen Algorithmus zu implementieren. Sie könnten wie folgt starten:"
   ]
  },
  {
   "cell_type": "code",
   "execution_count": null,
   "metadata": {},
   "outputs": [],
   "source": [
    "%%timeit\n",
    "a = 5 \n",
    "summe = a*a*a*a*a*a*a*a*a*a*a*a"
   ]
  },
  {
   "cell_type": "markdown",
   "metadata": {},
   "source": [
    "Diese Implementierung hat jedoch einige Nachteile. Neben dem, dass Sie sich bei der Anzahl der Variablen a leicht verzählen könnten (insbesondere bei mehr als 12 Faktoren) ist diese Implementierung auch zu nichts weiter zu gebrauchen als 12-mal die Variable a zu multiplizieren. Müssen Sie die Variable 13-mal oder 6-mal multiplizieren brauchen Sie eine neue Implementierung. Das ginge doch auch besser und zwar eventuell so:"
   ]
  },
  {
   "cell_type": "code",
   "execution_count": null,
   "metadata": {},
   "outputs": [],
   "source": [
    "%%timeit\n",
    "a = 5\n",
    "n = 20\n",
    "summe = 0\n",
    "for i in range(n):\n",
    "    summe *= a"
   ]
  },
  {
   "cell_type": "markdown",
   "metadata": {},
   "source": [
    "Das funktioniert gut und Sie können ihre Implementierung parametrisieren, also nicht nur die Variable a wählen, sondern mit der Variable n auch bestimmen wie oft die Variable a mit sich selbst multipliziert werden soll. So soll es sein! Aber... diese Version dauert leider gut 3-mal so lange. Sie mögen nun sagen, dass es sich nur um 500 Nanosekunden handelt. Aber stellen Sie sich mal vor, was passiert wenn die Berechnung milliarden- oder billionenfach pro Tag ausgeführt wird, z.B. an den Finanzmärkten, den Potenzen kommen dort vor wie Sand am Meer. Wir würden dann in der Summe extrem viel Rechenzeit verschwenden, die zum einen bezahlt werden muss und zum anderen die Umwelt belastet. Wir sind also gut beraten immer den effizientesten Algorithmus zu implementieren. Potenzen können hier Abhilfe schaffen:"
   ]
  },
  {
   "cell_type": "code",
   "execution_count": null,
   "metadata": {},
   "outputs": [],
   "source": [
    "%%timeit\n",
    "a = 5\n",
    "n = 20\n",
    "summe = math.pow(a,n)"
   ]
  },
  {
   "cell_type": "markdown",
   "metadata": {},
   "source": [
    "Die Potenzrechnung ist nicht nur die kürzeste Schreibweise und die eleganteste Implementierung, sondern auch die nachhaltigste Implementierung aller drei vorgestellten Varianten. Und wenn die Termumformung von Montag noch nicht genug Motivation für die Potenzrechenregeln liefert, hier noch der Vorteil der sich aus der Vereinfachung eines Terms anhand von Potenzrechenregeln ergibt:"
   ]
  },
  {
   "cell_type": "code",
   "execution_count": null,
   "metadata": {},
   "outputs": [],
   "source": [
    "%%timeit\n",
    "a = 5\n",
    "n = 20\n",
    "m = 15\n",
    "summe = math.pow(a,n) * math.pow(a,m)"
   ]
  },
  {
   "cell_type": "code",
   "execution_count": null,
   "metadata": {},
   "outputs": [],
   "source": [
    "%%timeit\n",
    "a = 5\n",
    "n = 35\n",
    "summe = math.pow(a,n)"
   ]
  },
  {
   "cell_type": "markdown",
   "metadata": {},
   "source": [
    "## Finanzmathematik"
   ]
  },
  {
   "cell_type": "markdown",
   "metadata": {},
   "source": [
    "### Annuitätendarlehen\n",
    "Annuitätendarlehen sind eine spezielle Darlehensform, die recht häufig bei Bankkrediten vorkommt - zum Beispiel bei Immobilienkrediten. Das besondere an Annuitätendarlehen ist die Annuität, die eine feste Ratenzahlung ist. Einher gehen damit einige Besonderheiten: \n",
    "1. Die Raten verändern sich nicht und sind dadurch gut planbar.\n",
    "2. Die eigentliche Tilgungsleistung zu Beginn ist minimal, dass heißt die Zinslast ist höher am Anfang.\n",
    "\n",
    "Diese Besonderheiten machen die Berechnung eines Tilgungsplans etwas komplexer. Mit Hilfe der Potenzen gelingt uns das jedoch ziemlich gut. \n",
    "\n",
    "Nehmen wir folgenden Sachverhalt an (siehe Tietze, Einführung in die Finanzmathematik, 10. Auflage, S.187ff.):\n",
    "\n",
    "__Kredithöhe ($K_0$)__: € 100,000\n",
    "\n",
    "__Zinssatz ($i$)__: 10% p.a.\n",
    "\n",
    "__Laufzeit ($n$)__: 15 Jahre\n",
    "\n",
    "Die Frage ist nun wie hoch die Annuität ($A$), also die gleich hohe Rate sein muss. Dies berechnet sich aus:\n",
    "$$A=K_0\\cdot\\frac{q^n(q-1)}{q^n-1}$$\n",
    "wobei $q=1+i$ ist. \n",
    "\n",
    "Sie sehen hier den Abkürzungscharakter der Potenz, da sie es sich mit $q^n$ sparen n-mal q zu multiplizieren. Und diese Berechnung wir weltweit extrem häufig genutzt. Berechnen wir nun einmal unsere Annuität:"
   ]
  },
  {
   "cell_type": "code",
   "execution_count": null,
   "metadata": {},
   "outputs": [],
   "source": [
    "%%timeit\n",
    "K0 = 100000\n",
    "i=0.1\n",
    "q=1+i\n",
    "n=15\n",
    "A=K0*(math.pow(q,n)*(q-1))/(math.pow(q,n)-1) # So wie die Formel es sagt, können wir es effizienter? "
   ]
  },
  {
   "cell_type": "code",
   "execution_count": null,
   "metadata": {},
   "outputs": [],
   "source": [
    "%%timeit\n",
    "# Klar können wir! ;-)\n",
    "K0 = 100000\n",
    "i=0.1\n",
    "q=1+i\n",
    "n=15\n",
    "qn = math.pow(q,n)\n",
    "A=K0*(qn*i)/(qn-1)"
   ]
  },
  {
   "cell_type": "code",
   "execution_count": null,
   "metadata": {},
   "outputs": [],
   "source": [
    "print(f'Die Annuität beträgt EUR {A}.')"
   ]
  },
  {
   "cell_type": "markdown",
   "metadata": {},
   "source": [
    "Mit der Kenntnis der Kredithöhe, des Zinssatzes und der Annuität können wir nun den klassischen Tilgungsplan erstellen in der Form:\n",
    "\n",
    "Jahr |Restschuld   |Zins        |Tilgung    |Annuität\n",
    "-----|-------------|------------|-----------|------------\n",
    "1    |€ 100,000.00 |€ 10,000.00 |€ 3,147.38 |€ 13,147.38\n",
    "2    |€  96,852.62 |€  9,685.26 |€ 3,462.12 |€ 13,147.38\n",
    "     | ...         | ...        | ...       | ...\n"
   ]
  },
  {
   "cell_type": "markdown",
   "metadata": {},
   "source": [
    "Sie kennen also die Restschuld im Jahr 1. Sie kennen die Annuität und können die Höhe der Zinsen von der Annuität subtrahieren und erhalten die Höhe der Tilgung. Damit können Sie dann die Restschuld im Jahr 2 berechnen und wieder von vorne beginnen. Das klingt als könnte das der Computer für uns erledigen. :-)"
   ]
  },
  {
   "cell_type": "code",
   "execution_count": null,
   "metadata": {},
   "outputs": [],
   "source": [
    "import pandas as pd\n",
    "import math\n",
    "notional = 100000\n",
    "interest_rate = 0.1\n",
    "maturity = 15\n",
    "qn = math.pow(1+interest_rate,maturity)\n",
    "annuity = notional * (qn*interest_rate)/(qn-1)\n",
    "items = [(0,notional,0,0,0)]\n",
    "for n in range(maturity):\n",
    "    year = n+1 \n",
    "    outstanding = items[n][1]-items[n][3]\n",
    "    interest = outstanding * 0.1\n",
    "    redemption = annuity - interest\n",
    "    items.append((year, outstanding, interest, redemption, annuity))\n",
    "items.pop(0)\n",
    "df = pd.DataFrame(items, columns=['Jahr', 'Restschuld', 'Zins', 'Tilgung', 'Annuität'])\n",
    "df = df.round(decimals=2)\n",
    "df"
   ]
  },
  {
   "cell_type": "markdown",
   "metadata": {},
   "source": [
    "Dies ist zwar möglich aber etwas zu aufwändig, denn oft wollen Sie vielleicht gar nicht alles berechnen, sondern nur die Restschuld nach einer geiwssen Laufzeit wissen. Dafür hält die Finanzmathematik eine Überraschung für uns bereit. Die Annuitätenformel \n",
    "$$A=K_0\\cdot\\frac{q^n(q-1)}{q^n-1}$$\n",
    "kann umgestellt werden zu\n",
    "$$K_0 \\cdot q^n =A\\cdot\\frac{(q^n-1)}{q-1}$$\n",
    "Hinweis: In der Bruchrechnung die Sie hier benötigen steckt auch etwas Potenzrechnung drin. Stichwort: Kehrwert)\n",
    "\n",
    "Diese Gleichung sagt in Worten: \"Das aufgezinste Kapiptal $K_0$ muss dem Wert der aufgezinsten Annuitäten entsprechen\" - Also Leistung ist gleich Gegenleistung. Das \"Nette\" daran ist, dass dies während der Laufzeit (zum Beispiel nach 8 Jahren) noch nicht gilt, dann berechnet:\n",
    "$$K_m = K_O \\cdot q^m - A\\cdot\\frac{(q^n-1)}{q-1}$$\n",
    "die Restschuld zum Zeitpunkt m. Anders gesagt: Sie können sich das Ausrechnen von Zins und Subtraktion von der Annnuität und dann Ausrechnen der Tilgung und Subtraktion von der Restschuld sparen, um die neue Restschuld zu ermitteln. Cool! Sie könnten sich die Übersicht der Restschuld also auch so ermitteln lassen:"
   ]
  },
  {
   "cell_type": "code",
   "execution_count": null,
   "metadata": {},
   "outputs": [],
   "source": [
    "import pandas as pd\n",
    "import numpy as np\n",
    "notional = 100000\n",
    "interest_rate = 0.1\n",
    "maturity = 15\n",
    "years = list(range(maturity+1))\n",
    "years.pop(0)\n",
    "q = 1+interest_rate\n",
    "qn = math.pow(q,maturity)\n",
    "annuity = notional * (qn*interest_rate)/(qn-1)\n",
    "data = {'Jahr': years}\n",
    "df = pd.DataFrame(data)\n",
    "df = df.assign(Restschuld = lambda x: (notional*np.power(q,x['Jahr']-1)-annuity*(np.power(q,x['Jahr']-1)-1)/(interest_rate)))\n",
    "df = df.round(decimals=2)\n",
    "df"
   ]
  }
 ],
 "metadata": {
  "kernelspec": {
   "display_name": "Python 3",
   "language": "python",
   "name": "python3"
  },
  "language_info": {
   "codemirror_mode": {
    "name": "ipython",
    "version": 3
   },
   "file_extension": ".py",
   "mimetype": "text/x-python",
   "name": "python",
   "nbconvert_exporter": "python",
   "pygments_lexer": "ipython3",
   "version": "3.6.6+"
  }
 },
 "nbformat": 4,
 "nbformat_minor": 2
}
