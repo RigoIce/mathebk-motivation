{
 "cells": [
  {
   "cell_type": "markdown",
   "id": "0e5afa60-97bd-41f4-8724-8b3b556c45a6",
   "metadata": {},
   "source": [
    "# Trigonometrie"
   ]
  },
  {
   "cell_type": "markdown",
   "id": "36a00e9d-de74-464d-90be-1378f6071753",
   "metadata": {},
   "source": [
    "## Medieninformatik"
   ]
  },
  {
   "cell_type": "markdown",
   "id": "0c42064a-d357-4665-87ff-25ca06b0abb6",
   "metadata": {},
   "source": [
    "### 3D-Rendering\n",
    "Dreiecke sind recht einfach geometrische Formen, die auch gut bekannt und erforscht sind. Aus der Geodäsie ist bekannt, dass Oberflächen sehr gut durch Dreiecke approximiert werden können. Aus diesem Grund bedient man sich auch oft im Bereich des 3D-Renderings (Animationsfilme, Videospiele, CAD, ...) einer Approximation der darzustellenden Oberflächen durch Dreiecke. Da die Trigonometrie das Maß der Dreiecke ist, soll das Rendern von 3D-Objekten hier als Motivation dienen sich mit Dreiecken und den trigonometrischen Funktionen auseinanderzusetzen. \n",
    "\n",
    "Bitte beachten Sie in diesem Beispiel, dass Python 3.8 vorausgesetzt wird. Zwar ist Python 3.9 bereits länger verfügbar, für die Bibliothek Open3D gibt es aber noch keine kompatible Adaption. Sollten Sie der Anleitung gefolgt sein und bereit Anaconda installiert haben, haben Sie Python 3.8. Sollten Sie Anaconda erst später installieren oder Python direkt installieren wollen, müssen Sie den Hinweis beachten. \n",
    "\n",
    "Und hier genutzte Beispiel in einem Blogeintrag auf [Towards Data Science](https://towardsdatascience.com/5-step-guide-to-generate-3d-meshes-from-point-clouds-with-python-36bad397d8ba) entdeckt. "
   ]
  },
  {
   "cell_type": "code",
   "execution_count": 1,
   "id": "23c8e4ab-97ee-4c55-a3d5-222b605e80e0",
   "metadata": {},
   "outputs": [],
   "source": [
    "# Führen Sie dieses Kommando aus um Open3D zu installieren:\n",
    "# !pip3 install open3d\n",
    "# oder alternativ\n",
    "# !pip install open3d"
   ]
  },
  {
   "cell_type": "code",
   "execution_count": 2,
   "id": "934b5a72-46f2-4fbb-ac24-36fd4ddbd5a3",
   "metadata": {},
   "outputs": [
    {
     "name": "stdout",
     "output_type": "stream",
     "text": [
      "generation of 100000 LoD successful\n"
     ]
    }
   ],
   "source": [
    "# Required imports\n",
    "import open3d as o3d\n",
    "import numpy as np\n",
    "\n",
    "\n",
    "# Function to calculate different level of details\n",
    "def lod_mesh_export(mesh, lods, extension, path):\n",
    "    mesh_lods={}\n",
    "    for i in lods:\n",
    "        mesh_lod = mesh.simplify_quadric_decimation(i)\n",
    "        o3d.io.write_triangle_mesh(path+\"lod_\"+str(i)+extension, mesh_lod)\n",
    "        mesh_lods[i]=mesh_lod\n",
    "    print(\"generation of \"+str(i)+\" LoD successful\")\n",
    "    return mesh_lods\n",
    "\n",
    "\n",
    "# Create paths and load data\n",
    "input_path=\"./\"\n",
    "output_path=\"./\"\n",
    "dataname=\"sample_w_normals.xyz\"\n",
    "point_cloud= np.loadtxt(input_path+dataname,skiprows=1)\n",
    "\n",
    "# Load point cloud\n",
    "pcd = o3d.geometry.PointCloud()\n",
    "pcd.points = o3d.utility.Vector3dVector(point_cloud[:,:3])\n",
    "pcd.colors = o3d.utility.Vector3dVector(point_cloud[:,3:6]/255)\n",
    "pcd.normals = o3d.utility.Vector3dVector(point_cloud[:,6:9])\n",
    "\n",
    "# Radius determination\n",
    "distances = pcd.compute_nearest_neighbor_distance()\n",
    "avg_dist = np.mean(distances)\n",
    "radius = 3 * avg_dist\n",
    "\n",
    "# Create mesh using the Ball-Pivoting Algorithm \n",
    "bpa_mesh = o3d.geometry.TriangleMesh.create_from_point_cloud_ball_pivoting(pcd,o3d.utility.DoubleVector([radius, radius * 2]))\n",
    "\n",
    "# Calculate level of details\n",
    "my_lods = lod_mesh_export(bpa_mesh, [1,2,10,50,100,1000,10000,100000], \".ply\", output_path)"
   ]
  },
  {
   "cell_type": "code",
   "execution_count": 11,
   "id": "5ab7bdee-6155-4f31-8413-166c6638c360",
   "metadata": {},
   "outputs": [],
   "source": [
    "o3d.visualization.draw_geometries([my_lods[100000]])"
   ]
  },
  {
   "cell_type": "code",
   "execution_count": 14,
   "id": "a34ae697-b739-4cb9-a467-b7d3e6df32e1",
   "metadata": {},
   "outputs": [],
   "source": [
    "points = bpa_mesh.sample_points_uniformly(number_of_points=100000)"
   ]
  },
  {
   "cell_type": "code",
   "execution_count": 15,
   "id": "026bc4ce-4e52-4374-89af-010b414f321c",
   "metadata": {},
   "outputs": [],
   "source": [
    "o3d.visualization.draw_geometries([points])"
   ]
  },
  {
   "cell_type": "code",
   "execution_count": null,
   "id": "8702c390-0564-41e3-942c-a9744399911f",
   "metadata": {},
   "outputs": [],
   "source": []
  }
 ],
 "metadata": {
  "kernelspec": {
   "display_name": "Python 3 (ipykernel)",
   "language": "python",
   "name": "python3"
  },
  "language_info": {
   "codemirror_mode": {
    "name": "ipython",
    "version": 3
   },
   "file_extension": ".py",
   "mimetype": "text/x-python",
   "name": "python",
   "nbconvert_exporter": "python",
   "pygments_lexer": "ipython3",
   "version": "3.8.10"
  }
 },
 "nbformat": 4,
 "nbformat_minor": 5
}
